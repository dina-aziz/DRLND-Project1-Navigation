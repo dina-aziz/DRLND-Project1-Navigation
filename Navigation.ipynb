{
 "cells": [
  {
   "cell_type": "markdown",
   "metadata": {},
   "source": [
    "# Navigation\n",
    "\n",
    "---\n",
    "\n",
    "In this notebook, you will learn how to use the Unity ML-Agents environment for the first project of the [Deep Reinforcement Learning Nanodegree](https://www.udacity.com/course/deep-reinforcement-learning-nanodegree--nd893).\n",
    "\n",
    "### 1. Start the Environment\n",
    "\n",
    "We begin by importing some necessary packages.  If the code cell below returns an error, please revisit the project instructions to double-check that you have installed [Unity ML-Agents](https://github.com/Unity-Technologies/ml-agents/blob/master/docs/Installation.md) and [NumPy](http://www.numpy.org/)."
   ]
  },
  {
   "cell_type": "code",
   "execution_count": 1,
   "metadata": {},
   "outputs": [],
   "source": [
    "from unityagents import UnityEnvironment\n",
    "import numpy as np\n",
    "from collections import deque"
   ]
  },
  {
   "cell_type": "markdown",
   "metadata": {},
   "source": [
    "Next, we will start the environment!  **_Before running the code cell below_**, change the `file_name` parameter to match the location of the Unity environment that you downloaded.\n",
    "\n",
    "- **Mac**: `\"path/to/Banana.app\"`\n",
    "- **Windows** (x86): `\"path/to/Banana_Windows_x86/Banana.exe\"`\n",
    "- **Windows** (x86_64): `\"path/to/Banana_Windows_x86_64/Banana.exe\"`\n",
    "- **Linux** (x86): `\"path/to/Banana_Linux/Banana.x86\"`\n",
    "- **Linux** (x86_64): `\"path/to/Banana_Linux/Banana.x86_64\"`\n",
    "- **Linux** (x86, headless): `\"path/to/Banana_Linux_NoVis/Banana.x86\"`\n",
    "- **Linux** (x86_64, headless): `\"path/to/Banana_Linux_NoVis/Banana.x86_64\"`\n",
    "\n",
    "For instance, if you are using a Mac, then you downloaded `Banana.app`.  If this file is in the same folder as the notebook, then the line below should appear as follows:\n",
    "```\n",
    "env = UnityEnvironment(file_name=\"Banana.app\")\n",
    "```"
   ]
  },
  {
   "cell_type": "code",
   "execution_count": 2,
   "metadata": {},
   "outputs": [
    {
     "name": "stderr",
     "output_type": "stream",
     "text": [
      "INFO:unityagents:\n",
      "'Academy' started successfully!\n",
      "Unity Academy name: Academy\n",
      "        Number of Brains: 1\n",
      "        Number of External Brains : 1\n",
      "        Lesson number : 0\n",
      "        Reset Parameters :\n",
      "\t\t\n",
      "Unity brain name: BananaBrain\n",
      "        Number of Visual Observations (per agent): 0\n",
      "        Vector Observation space type: continuous\n",
      "        Vector Observation space size (per agent): 37\n",
      "        Number of stacked Vector Observation: 1\n",
      "        Vector Action space type: discrete\n",
      "        Vector Action space size (per agent): 4\n",
      "        Vector Action descriptions: , , , \n"
     ]
    }
   ],
   "source": [
    "env = UnityEnvironment(file_name=\"Banana_Windows_x86_64/Banana_Windows_x86_64/Banana.exe\")"
   ]
  },
  {
   "cell_type": "markdown",
   "metadata": {},
   "source": [
    "Environments contain **_brains_** which are responsible for deciding the actions of their associated agents. Here we check for the first brain available, and set it as the default brain we will be controlling from Python."
   ]
  },
  {
   "cell_type": "code",
   "execution_count": 3,
   "metadata": {},
   "outputs": [],
   "source": [
    "# get the default brain\n",
    "brain_name = env.brain_names[0]\n",
    "brain = env.brains[brain_name]"
   ]
  },
  {
   "cell_type": "markdown",
   "metadata": {},
   "source": [
    "### 2. Examine the State and Action Spaces\n",
    "\n",
    "The simulation contains a single agent that navigates a large environment.  At each time step, it has four actions at its disposal:\n",
    "- `0` - walk forward \n",
    "- `1` - walk backward\n",
    "- `2` - turn left\n",
    "- `3` - turn right\n",
    "\n",
    "The state space has `37` dimensions and contains the agent's velocity, along with ray-based perception of objects around agent's forward direction.  A reward of `+1` is provided for collecting a yellow banana, and a reward of `-1` is provided for collecting a blue banana. \n",
    "\n",
    "Run the code cell below to print some information about the environment."
   ]
  },
  {
   "cell_type": "code",
   "execution_count": 4,
   "metadata": {},
   "outputs": [
    {
     "name": "stdout",
     "output_type": "stream",
     "text": [
      "Number of agents: 1\n",
      "Number of actions: 4\n",
      "States look like: [ 1.          0.          0.          0.          0.84408134  0.          0.\n",
      "  1.          0.          0.0748472   0.          1.          0.          0.\n",
      "  0.25755     1.          0.          0.          0.          0.74177343\n",
      "  0.          1.          0.          0.          0.25854847  0.          0.\n",
      "  1.          0.          0.09355672  0.          1.          0.          0.\n",
      "  0.31969345  0.          0.        ]\n",
      "States have length: 37\n"
     ]
    }
   ],
   "source": [
    "# reset the environment\n",
    "env_info = env.reset(train_mode=True)[brain_name]\n",
    "\n",
    "# number of agents in the environment\n",
    "print('Number of agents:', len(env_info.agents))\n",
    "\n",
    "# number of actions\n",
    "action_size = brain.vector_action_space_size\n",
    "print('Number of actions:', action_size)\n",
    "\n",
    "# examine the state space \n",
    "state = env_info.vector_observations[0]\n",
    "print('States look like:', state)\n",
    "state_size = len(state)\n",
    "print('States have length:', state_size)"
   ]
  },
  {
   "cell_type": "markdown",
   "metadata": {},
   "source": [
    "### 3. Training the agent"
   ]
  },
  {
   "cell_type": "code",
   "execution_count": 5,
   "metadata": {},
   "outputs": [],
   "source": [
    "from dqn_agent import Agent\n",
    "import torch\n",
    "agent = Agent(state_size, action_size, seed=0)"
   ]
  },
  {
   "cell_type": "code",
   "execution_count": 6,
   "metadata": {},
   "outputs": [
    {
     "name": "stdout",
     "output_type": "stream",
     "text": [
      "Episode 100\tAverage Score: 1.06\n",
      "Episode 200\tAverage Score: 4.71\n",
      "Episode 300\tAverage Score: 8.63\n",
      "Episode 400\tAverage Score: 11.05\n",
      "Episode 474\tAverage Score: 13.04\n",
      "Model parameters saved on episode 374!\tAverage Score: 13.04\n",
      "Episode 475\tAverage Score: 13.07\n",
      "Model parameters saved on episode 375!\tAverage Score: 13.07\n",
      "Episode 483\tAverage Score: 13.08\n",
      "Model parameters saved on episode 383!\tAverage Score: 13.08\n",
      "Episode 484\tAverage Score: 13.19\n",
      "Model parameters saved on episode 384!\tAverage Score: 13.19\n",
      "Episode 485\tAverage Score: 13.22\n",
      "Model parameters saved on episode 385!\tAverage Score: 13.22\n",
      "Episode 489\tAverage Score: 13.23\n",
      "Model parameters saved on episode 389!\tAverage Score: 13.23\n",
      "Episode 491\tAverage Score: 13.29\n",
      "Model parameters saved on episode 391!\tAverage Score: 13.29\n",
      "Episode 492\tAverage Score: 13.40\n",
      "Model parameters saved on episode 392!\tAverage Score: 13.40\n",
      "Episode 493\tAverage Score: 13.43\n",
      "Model parameters saved on episode 393!\tAverage Score: 13.43\n",
      "Episode 494\tAverage Score: 13.49\n",
      "Model parameters saved on episode 394!\tAverage Score: 13.49\n",
      "Episode 495\tAverage Score: 13.57\n",
      "Model parameters saved on episode 395!\tAverage Score: 13.57\n",
      "Episode 500\tAverage Score: 13.47\n",
      "Episode 507\tAverage Score: 13.59\n",
      "Model parameters saved on episode 407!\tAverage Score: 13.59\n",
      "Episode 512\tAverage Score: 13.73\n",
      "Model parameters saved on episode 412!\tAverage Score: 13.73\n",
      "Episode 513\tAverage Score: 13.75\n",
      "Model parameters saved on episode 413!\tAverage Score: 13.75\n",
      "Episode 522\tAverage Score: 13.76\n",
      "Model parameters saved on episode 422!\tAverage Score: 13.76\n",
      "Episode 523\tAverage Score: 13.79\n",
      "Model parameters saved on episode 423!\tAverage Score: 13.79\n",
      "Episode 526\tAverage Score: 13.82\n",
      "Model parameters saved on episode 426!\tAverage Score: 13.82\n",
      "Episode 527\tAverage Score: 13.85\n",
      "Model parameters saved on episode 427!\tAverage Score: 13.85\n",
      "Episode 528\tAverage Score: 13.92\n",
      "Model parameters saved on episode 428!\tAverage Score: 13.92\n",
      "Episode 542\tAverage Score: 14.01\n",
      "Model parameters saved on episode 442!\tAverage Score: 14.01\n",
      "Episode 543\tAverage Score: 14.10\n",
      "Model parameters saved on episode 443!\tAverage Score: 14.10\n",
      "Episode 545\tAverage Score: 14.11\n",
      "Model parameters saved on episode 445!\tAverage Score: 14.11\n",
      "Episode 546\tAverage Score: 14.23\n",
      "Model parameters saved on episode 446!\tAverage Score: 14.23\n",
      "Episode 549\tAverage Score: 14.26\n",
      "Model parameters saved on episode 449!\tAverage Score: 14.26\n",
      "Episode 555\tAverage Score: 14.31\n",
      "Model parameters saved on episode 455!\tAverage Score: 14.31\n",
      "Episode 560\tAverage Score: 14.34\n",
      "Model parameters saved on episode 460!\tAverage Score: 14.34\n",
      "Episode 562\tAverage Score: 14.39\n",
      "Model parameters saved on episode 462!\tAverage Score: 14.39\n",
      "Episode 563\tAverage Score: 14.46\n",
      "Model parameters saved on episode 463!\tAverage Score: 14.46\n",
      "Episode 600\tAverage Score: 14.40\n",
      "Episode 610\tAverage Score: 14.50\n",
      "Model parameters saved on episode 510!\tAverage Score: 14.50\n",
      "Episode 611\tAverage Score: 14.51\n",
      "Model parameters saved on episode 511!\tAverage Score: 14.51\n",
      "Episode 617\tAverage Score: 14.52\n",
      "Model parameters saved on episode 517!\tAverage Score: 14.52\n",
      "Episode 618\tAverage Score: 14.59\n",
      "Model parameters saved on episode 518!\tAverage Score: 14.59\n",
      "Episode 619\tAverage Score: 14.62\n",
      "Model parameters saved on episode 519!\tAverage Score: 14.62\n",
      "Episode 623\tAverage Score: 14.63\n",
      "Model parameters saved on episode 523!\tAverage Score: 14.63\n",
      "Episode 624\tAverage Score: 14.73\n",
      "Model parameters saved on episode 524!\tAverage Score: 14.73\n",
      "Episode 636\tAverage Score: 14.81\n",
      "Model parameters saved on episode 536!\tAverage Score: 14.81\n",
      "Episode 684\tAverage Score: 14.87\n",
      "Model parameters saved on episode 584!\tAverage Score: 14.87\n",
      "Episode 688\tAverage Score: 14.88\n",
      "Model parameters saved on episode 588!\tAverage Score: 14.88\n",
      "Episode 691\tAverage Score: 14.89\n",
      "Model parameters saved on episode 591!\tAverage Score: 14.89\n",
      "Episode 692\tAverage Score: 14.90\n",
      "Model parameters saved on episode 592!\tAverage Score: 14.90\n",
      "Episode 693\tAverage Score: 14.92\n",
      "Model parameters saved on episode 593!\tAverage Score: 14.92\n",
      "Episode 700\tAverage Score: 14.63\n",
      "Episode 739\tAverage Score: 14.93\n",
      "Model parameters saved on episode 639!\tAverage Score: 14.93\n",
      "Episode 741\tAverage Score: 14.97\n",
      "Model parameters saved on episode 641!\tAverage Score: 14.97\n",
      "Episode 753\tAverage Score: 14.98\n",
      "Model parameters saved on episode 653!\tAverage Score: 14.98\n",
      "Episode 754\tAverage Score: 15.00\n",
      "Model parameters saved on episode 654!\tAverage Score: 15.00\n",
      "Episode 756\tAverage Score: 15.02\n",
      "Model parameters saved on episode 656!\tAverage Score: 15.02\n",
      "Episode 757\tAverage Score: 15.03\n",
      "Model parameters saved on episode 657!\tAverage Score: 15.03\n",
      "Episode 759\tAverage Score: 15.11\n",
      "Model parameters saved on episode 659!\tAverage Score: 15.11\n",
      "Episode 760\tAverage Score: 15.13\n",
      "Model parameters saved on episode 660!\tAverage Score: 15.13\n",
      "Episode 761\tAverage Score: 15.23\n",
      "Model parameters saved on episode 661!\tAverage Score: 15.23\n",
      "Episode 764\tAverage Score: 15.31\n",
      "Model parameters saved on episode 664!\tAverage Score: 15.31\n",
      "Episode 765\tAverage Score: 15.32\n",
      "Model parameters saved on episode 665!\tAverage Score: 15.32\n",
      "Episode 766\tAverage Score: 15.34\n",
      "Model parameters saved on episode 666!\tAverage Score: 15.34\n",
      "Episode 768\tAverage Score: 15.40\n",
      "Model parameters saved on episode 668!\tAverage Score: 15.40\n",
      "Episode 775\tAverage Score: 15.41\n",
      "Model parameters saved on episode 675!\tAverage Score: 15.41\n",
      "Episode 800\tAverage Score: 15.14\n",
      "Episode 900\tAverage Score: 15.05\n",
      "Episode 932\tAverage Score: 15.45\n",
      "Model parameters saved on episode 832!\tAverage Score: 15.45\n",
      "Episode 934\tAverage Score: 15.47\n",
      "Model parameters saved on episode 834!\tAverage Score: 15.47\n",
      "Episode 935\tAverage Score: 15.51\n",
      "Model parameters saved on episode 835!\tAverage Score: 15.51\n",
      "Episode 936\tAverage Score: 15.56\n",
      "Model parameters saved on episode 836!\tAverage Score: 15.56\n",
      "Episode 937\tAverage Score: 15.58\n",
      "Model parameters saved on episode 837!\tAverage Score: 15.58\n",
      "Episode 938\tAverage Score: 15.59\n",
      "Model parameters saved on episode 838!\tAverage Score: 15.59\n",
      "Episode 940\tAverage Score: 15.60\n",
      "Model parameters saved on episode 840!\tAverage Score: 15.60\n",
      "Episode 941\tAverage Score: 15.72\n",
      "Model parameters saved on episode 841!\tAverage Score: 15.72\n",
      "Episode 943\tAverage Score: 15.78\n",
      "Model parameters saved on episode 843!\tAverage Score: 15.78\n",
      "Episode 948\tAverage Score: 15.79\n",
      "Model parameters saved on episode 848!\tAverage Score: 15.79\n",
      "Episode 953\tAverage Score: 15.80\n",
      "Model parameters saved on episode 853!\tAverage Score: 15.80\n",
      "Episode 954\tAverage Score: 15.83\n",
      "Model parameters saved on episode 854!\tAverage Score: 15.83\n",
      "Episode 955\tAverage Score: 15.92\n",
      "Model parameters saved on episode 855!\tAverage Score: 15.92\n",
      "Episode 977\tAverage Score: 15.96\n",
      "Model parameters saved on episode 877!\tAverage Score: 15.96\n",
      "Episode 984\tAverage Score: 16.03\n",
      "Model parameters saved on episode 884!\tAverage Score: 16.03\n",
      "Episode 990\tAverage Score: 16.11\n",
      "Model parameters saved on episode 890!\tAverage Score: 16.11\n",
      "Episode 994\tAverage Score: 16.13\n",
      "Model parameters saved on episode 894!\tAverage Score: 16.13\n",
      "Episode 995\tAverage Score: 16.17\n",
      "Model parameters saved on episode 895!\tAverage Score: 16.17\n",
      "Episode 997\tAverage Score: 16.27\n",
      "Model parameters saved on episode 897!\tAverage Score: 16.27\n",
      "Episode 998\tAverage Score: 16.33\n",
      "Model parameters saved on episode 898!\tAverage Score: 16.33\n",
      "Episode 999\tAverage Score: 16.45\n",
      "Model parameters saved on episode 899!\tAverage Score: 16.45\n",
      "Episode 1000\tAverage Score: 16.34\n"
     ]
    }
   ],
   "source": [
    "def dqn(n_episodes=1000, eps_start=1.0, eps_end=0.01, eps_decay=0.995):\n",
    "   \n",
    "    average_score = 0.0\n",
    "    scores = []                        # list containing scores from each episode\n",
    "    scores_window = deque(maxlen=100)  # last 100 scores\n",
    "    eps = eps_start                    # initialize epsilon\n",
    "    for i_episode in range(1, n_episodes+1):\n",
    "        env_info = env.reset(train_mode=True)[brain_name] # reset the environment\n",
    "        state = env_info.vector_observations[0]            # get the current state\n",
    "        score = 0    # initialize the score\n",
    "        while True:\n",
    "            action = agent.act(state,eps)                  # select an action\n",
    "            env_info = env.step(action.astype(int))[brain_name]        # send the action to the environment\n",
    "            next_state = env_info.vector_observations[0]   # get the next state\n",
    "            reward = env_info.rewards[0]                   # get the reward\n",
    "            done = env_info.local_done[0]                  # see if episode has finished\n",
    "            agent.step(state, action, reward, next_state, done)    # agent learning from a sample of the replay buffer\n",
    "            score += reward                                # update the score\n",
    "            state = next_state                             # roll over the state to next time step\n",
    "            if done:                                       # exit loop if episode finished\n",
    "                break\n",
    "\n",
    "        scores_window.append(score)       # save most recent score\n",
    "        scores.append(score)              # save most recent score\n",
    "        eps = max(eps_end, eps_decay*eps) # decrease epsilon\n",
    "        print('\\rEpisode {}\\tAverage Score: {:.2f}'.format(i_episode, np.mean(scores_window)), end=\"\")\n",
    "        if i_episode % 100 == 0:\n",
    "            print('\\rEpisode {}\\tAverage Score: {:.2f}'.format(i_episode, np.mean(scores_window)))\n",
    "        if np.mean(scores_window)>=13.0 and np.mean(scores_window)>average_score:\n",
    "            print('\\nModel parameters saved on episode {:d}!\\tAverage Score: {:.2f}'.format(i_episode-100, np.mean(scores_window)))\n",
    "            torch.save(agent.qnetwork_local.state_dict(), 'checkpoint.pth')\n",
    "            average_score = np.mean(scores_window)\n",
    "    return scores\n",
    "\n",
    "scores = dqn()"
   ]
  },
  {
   "cell_type": "code",
   "execution_count": 9,
   "metadata": {},
   "outputs": [
    {
     "data": {
      "image/png": "[encoded data removed]",
      "text/plain": [
       "<Figure size 432x288 with 1 Axes>"
      ]
     },
     "metadata": {
      "needs_background": "light"
     },
     "output_type": "display_data"
    }
   ],
   "source": [
    "import matplotlib.pyplot as plt\n",
    "fig = plt.figure()\n",
    "ax = fig.add_subplot(111)\n",
    "plt.plot(np.arange(len(scores)), scores)\n",
    "plt.ylabel('Score')\n",
    "plt.xlabel('Episode #')\n",
    "plt.show()"
   ]
  },
  {
   "cell_type": "markdown",
   "metadata": {},
   "source": [
    "### 3. Testing the trained agent.."
   ]
  },
  {
   "cell_type": "code",
   "execution_count": 10,
   "metadata": {},
   "outputs": [
    {
     "name": "stdout",
     "output_type": "stream",
     "text": [
      "Episode1: Score: 17.0\n",
      "Episode2: Score: 18.0\n",
      "Episode3: Score: 24.0\n",
      "Episode4: Score: 21.0\n",
      "Episode5: Score: 19.0\n",
      "Episode6: Score: 18.0\n",
      "Episode7: Score: 15.0\n",
      "Episode8: Score: 18.0\n",
      "Episode9: Score: 14.0\n",
      "Episode10: Score: 18.0\n"
     ]
    }
   ],
   "source": [
    "num_test_episodes = 10\n",
    "for i in range(1,num_test_episodes+1):\n",
    "    env_info = env.reset(train_mode=True)[brain_name] # reset the environment\n",
    "    state = env_info.vector_observations[0]            # get the current state\n",
    "    score = 0                                          # initialize the score\n",
    "    while True:\n",
    "        action = agent.act(state)                  # select an action\n",
    "        env_info = env.step(action.astype(int))[brain_name]   # send the action to the environment\n",
    "        next_state = env_info.vector_observations[0]   # get the next state\n",
    "        reward = env_info.rewards[0]                   # get the reward\n",
    "        done = env_info.local_done[0]                  # see if episode has finished\n",
    "        score += reward                                # update the score\n",
    "        state = next_state                             # roll over the state to next time step\n",
    "        if done:                                       # exit loop if episode finished\n",
    "            break\n",
    "\n",
    "    print(\"Episode{}: Score: {}\".format(i, score))"
   ]
  },
  {
   "cell_type": "code",
   "execution_count": null,
   "metadata": {},
   "outputs": [],
   "source": []
  }
 ],
 "metadata": {
  "kernelspec": {
   "display_name": "Python 3",
   "language": "python",
   "name": "python3"
  },
  "language_info": {
   "codemirror_mode": {
    "name": "ipython",
    "version": 3
   },
   "file_extension": ".py",
   "mimetype": "text/x-python",
   "name": "python",
   "nbconvert_exporter": "python",
   "pygments_lexer": "ipython3",
   "version": "3.6.9"
  }
 },
 "nbformat": 4,
 "nbformat_minor": 2
}
